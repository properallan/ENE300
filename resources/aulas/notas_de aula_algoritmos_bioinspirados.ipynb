{
 "cells": [
  {
   "attachments": {},
   "cell_type": "markdown",
   "metadata": {},
   "source": [
    "# Site da disciplina\n",
    "\n",
    "https://sites.google.com/view/disciplinasebelati"
   ]
  },
  {
   "attachments": {},
   "cell_type": "markdown",
   "metadata": {},
   "source": [
    "# Bibliografia\n",
    "\n",
    "Computational Intelligence Book:\n",
    "- https://www.computational-intelligence.eu/"
   ]
  },
  {
   "attachments": {},
   "cell_type": "markdown",
   "metadata": {},
   "source": [
    "# Eggholder function"
   ]
  },
  {
   "cell_type": "code",
   "execution_count": null,
   "metadata": {},
   "outputs": [],
   "source": [
    "import numpy as np\n",
    "import matplotlib.pyplot as plt\n",
    "from mpl_toolkits.mplot3d import Axes3D\n",
    "\n",
    "\n",
    "#def eggholder(x, y):\n",
    "#    return -(y + 47) * np.sin(np.sqrt(np.abs(x/2 + (y + 47)))) - x * np.sin(np.sqrt(np.abs(x - (y + 47))))\n",
    "\n",
    "from ene300.functions import eggholder\n",
    "\n",
    "X = np.linspace(-512, 512, 256)\n",
    "Y = np.linspace(-512, 512, 256)\n",
    "X, Y = np.meshgrid(X, Y)\n",
    "Z = eggholder([X, Y])\n",
    "\n",
    "fig = plt.figure()\n",
    "ax = fig.add_subplot(111, projection='3d')\n",
    "ax.plot_surface(X, Y, Z, cmap='viridis')\n",
    "plt.show()\n"
   ]
  },
  {
   "cell_type": "code",
   "execution_count": null,
   "metadata": {},
   "outputs": [],
   "source": [
    "eggholder([512, 404.2319])"
   ]
  },
  {
   "cell_type": "code",
   "execution_count": null,
   "metadata": {},
   "outputs": [],
   "source": [
    "x___= np.array([[0,10],[0,10], [0,10]])\n",
    "x___.shape\n",
    "\n",
    "np.min(x___, axis=1)"
   ]
  },
  {
   "attachments": {},
   "cell_type": "markdown",
   "metadata": {},
   "source": [
    "# Shubert function"
   ]
  },
  {
   "cell_type": "code",
   "execution_count": null,
   "metadata": {},
   "outputs": [],
   "source": [
    "%matplotlib widget"
   ]
  },
  {
   "cell_type": "code",
   "execution_count": null,
   "metadata": {},
   "outputs": [],
   "source": [
    "import numpy as np\n",
    "import matplotlib.pyplot as plt\n",
    "from mpl_toolkits.mplot3d import Axes3D\n",
    "\n",
    "def shubert(x, y):\n",
    "    total = 0\n",
    "    for i in range(1, 6):\n",
    "        for j in range(1, 6):\n",
    "            total += i * np.cos((i + 1) * x + i) * j * np.cos((j + 1) * y + j)\n",
    "    return total\n",
    "\n",
    "def shubert2(x, y):\n",
    "    sum1 = sum2 = 0 \n",
    "    for i in range(1, 6):\n",
    "        sum1 +=  i * np.cos((i + 1) * x + i)\n",
    "    for j in range(1, 6):\n",
    "        sum2 += j * np.cos((j + 1) * y + j)\n",
    "    return sum1*sum2\n",
    "\n",
    "X = np.linspace(-10, 10, 256)\n",
    "Y = np.linspace(-10, 10, 256)\n",
    "X, Y = np.meshgrid(X, Y)\n",
    "Z = shubert(X, Y)\n",
    "\n",
    "fig = plt.figure()\n",
    "ax = fig.add_subplot(111, projection='3d')\n",
    "ax.plot_surface(X, Y, Z, cmap='viridis')\n",
    "plt.show()\n"
   ]
  },
  {
   "cell_type": "code",
   "execution_count": null,
   "metadata": {},
   "outputs": [],
   "source": [
    "from ene300 import shubert\n",
    "import numpy as np\n",
    "import matplotlib.pyplot as plt\n",
    "\n",
    "X = np.linspace(-10, 10, 256)\n",
    "Y = np.linspace(-10, 10, 256)\n",
    "X, Y = np.meshgrid(X, Y)\n",
    "Z = shubert([X, Y])\n",
    "\n",
    "fig = plt.figure()\n",
    "ax = fig.add_subplot(111, projection='3d')\n",
    "ax.plot_surface(X, Y, Z, cmap='viridis')\n",
    "plt.show()"
   ]
  },
  {
   "attachments": {},
   "cell_type": "markdown",
   "metadata": {},
   "source": [
    "# Griewank function"
   ]
  },
  {
   "cell_type": "code",
   "execution_count": null,
   "metadata": {},
   "outputs": [],
   "source": [
    "%matplotlib qt"
   ]
  },
  {
   "cell_type": "code",
   "execution_count": null,
   "metadata": {},
   "outputs": [],
   "source": [
    "import numpy as np\n",
    "import matplotlib.pyplot as plt\n",
    "from mpl_toolkits.mplot3d import Axes3D\n",
    "\n",
    "\n",
    "def griewank(x, y):\n",
    "    return (x**2 / 4000) + (y**2 / 4000) - np.cos(x) * np.cos(y/np.sqrt(2)) + 1\n",
    "\n",
    "X = np.linspace(-100, 100, 256)\n",
    "Y = np.linspace(-100, 100, 256)\n",
    "X, Y = np.meshgrid(X, Y)\n",
    "Z = griewank(X, Y)\n",
    "\n",
    "fig = plt.figure()\n",
    "ax = fig.add_subplot(111, projection='3d')\n",
    "ax.plot_surface(X, Y, Z, cmap='viridis')\n",
    "plt.show()\n"
   ]
  },
  {
   "cell_type": "code",
   "execution_count": null,
   "metadata": {},
   "outputs": [],
   "source": [
    "from ene300 import griewank\n",
    "\n",
    "def griewank(x):\n",
    "    # References\n",
    "    \"\"\"\n",
    "    Global Optimization Test Problems. Retrieved June 2013, from http://www-\n",
    "    optima.amp.i.kyoto-u.ac.jp/member/student/hedar/Hedar_files/TestGO.htm.\n",
    "    Molga, M., & Smutnicki, C. Test functions for optimization needs (2005). Retrieved June\n",
    "    2013, from http://www.zsd.ict.pwr.wroc.pl/files/docs/functions.pdf\n",
    "    Funções para testes de Algoritmos\n",
    "    \"\"\"\n",
    "    d = len(x)\n",
    "    f = 0\n",
    "    sum = 0\n",
    "    prod = 1\n",
    "    for i in range(0, d):\n",
    "        sum += x[i]**2/4000.0\n",
    "        prod *= np.cos(x[i]/np.sqrt(i+1)) \n",
    "    f = sum - prod + 1\n",
    "    return f\n",
    "\n",
    "X_ = np.linspace(-100, 100, 100)\n",
    "Y_ = np.linspace(-100, 100, 100)\n",
    "X, Y = np.meshgrid(X_, Y_)\n",
    "x = np.array([X,Y])\n",
    "Z = griewank(x)\n",
    "\n",
    "fig = plt.figure()\n",
    "ax = fig.add_subplot(111, projection='3d')\n",
    "ax.plot_surface(X, Y, Z, cmap='viridis')\n",
    "plt.show()"
   ]
  },
  {
   "cell_type": "markdown",
   "metadata": {},
   "source": [
    "# Six Hump function"
   ]
  },
  {
   "cell_type": "code",
   "execution_count": null,
   "metadata": {},
   "outputs": [],
   "source": [
    "%matplotlib qt"
   ]
  },
  {
   "cell_type": "code",
   "execution_count": null,
   "metadata": {},
   "outputs": [],
   "source": [
    "from ene300 import sixhump\n",
    "import numpy as np\n",
    "import matplotlib.pyplot as plt\n",
    "\n",
    "X = np.linspace(-3, 3, 256)\n",
    "Y = np.linspace(-2, 2, 256)\n",
    "X, Y = np.meshgrid(X, Y)\n",
    "Z = sixhump([X, Y])\n",
    "\n",
    "fig = plt.figure()\n",
    "ax = fig.add_subplot(111, projection='3d')\n",
    "ax.plot_surface(X, Y, Z, cmap='viridis')\n",
    "plt.show()"
   ]
  },
  {
   "cell_type": "markdown",
   "metadata": {},
   "source": [
    "# Easom"
   ]
  },
  {
   "cell_type": "code",
   "execution_count": null,
   "metadata": {},
   "outputs": [],
   "source": [
    "%matplotlib qt\n",
    "from ene300 import easom\n",
    "import numpy as np\n",
    "import matplotlib.pyplot as plt\n",
    "\n",
    "X = np.linspace(-10, 10, 256)\n",
    "Y = np.linspace(-10, 10, 256)\n",
    "X, Y = np.meshgrid(X, Y)\n",
    "Z = easom([X, Y])\n",
    "\n",
    "fig = plt.figure()\n",
    "ax = fig.add_subplot(111, projection='3d')\n",
    "ax.plot_surface(X, Y, Z, cmap='viridis')\n",
    "plt.show()"
   ]
  },
  {
   "attachments": {},
   "cell_type": "markdown",
   "metadata": {},
   "source": [
    "# Dichotomous search for single variable"
   ]
  },
  {
   "cell_type": "code",
   "execution_count": null,
   "metadata": {},
   "outputs": [],
   "source": [
    "def dichotomous_search(f, a, b, epsilon):\n",
    "    print(f\"it \\ta \\tb \\tintervalo  \\tx1 \\tx2 \\tf_x1   \\tf_x2\")\n",
    "    it = 0\n",
    "    while abs(a - b) >= epsilon*10.0:\n",
    "        x1 = (a + b)/2.0 - epsilon\n",
    "        x2 = (a + b)/2.0 + epsilon\n",
    "        f_x1 = f(x1)\n",
    "        f_x2 = f(x2)\n",
    "        if f_x1 > f_x2:\n",
    "            a = x1\n",
    "        else:\n",
    "            b = x2\n",
    "\n",
    "        it += 1\n",
    "        erro = abs(a-b)\n",
    "        \n",
    "        print(f\"{it} \\t{a:.4f} \\t{b:.4f} \\t{erro:.4f}  \\t{x1:.4f} \\t{x2:.4f} \\t{f_x1:.4f} \\t{f_x2:.4f}\")\n",
    "    return (a + b) / 2.0"
   ]
  },
  {
   "attachments": {},
   "cell_type": "markdown",
   "metadata": {},
   "source": [
    "# Dichotomous search for multi variable\n"
   ]
  },
  {
   "cell_type": "code",
   "execution_count": null,
   "metadata": {},
   "outputs": [],
   "source": [
    "import numpy as np\n",
    "\n",
    "def dichotomous_search_multi(f, bounds, epsilon):\n",
    "    n = len(bounds)\n",
    "    x = np.zeros(n)\n",
    "    for i in range(n):\n",
    "        a, b = bounds[i]\n",
    "        while (b - a) >= epsilon:\n",
    "            x1 = (a + b - epsilon) / 2\n",
    "            x2 = (a + b + epsilon) / 2\n",
    "            x[i] = x1\n",
    "            f_x1 = f(x)\n",
    "            x[i] = x2\n",
    "            f_x2 = f(x)\n",
    "            if f_x1 < f_x2:\n",
    "                b = x2\n",
    "            else:\n",
    "                a = x1\n",
    "        x[i] = (a + b) / 2\n",
    "    return x"
   ]
  },
  {
   "cell_type": "code",
   "execution_count": null,
   "metadata": {},
   "outputs": [],
   "source": [
    "def f(x):\n",
    "    return 8*x**3 - 2*x**2 - 7*x + 3"
   ]
  },
  {
   "cell_type": "code",
   "execution_count": null,
   "metadata": {},
   "outputs": [],
   "source": [
    "x1 = dichotomous_search(f, 0.0, 2.0, 0.00001)\n",
    "x1"
   ]
  },
  {
   "cell_type": "code",
   "execution_count": null,
   "metadata": {},
   "outputs": [],
   "source": [
    "x = np.linspace(0,2,100)\n",
    "plt.plot(x, f(x))\n",
    "plt.scatter(x1, f(x1))"
   ]
  },
  {
   "cell_type": "code",
   "execution_count": null,
   "metadata": {},
   "outputs": [],
   "source": [
    "import numpy as np\n",
    "from autograd import grad\n",
    "\n",
    "def newton_method(f, x0, epsilon, max_iterations=100):\n",
    "    df = grad(f)\n",
    "    d2f = grad(df)\n",
    "    x = x0\n",
    "    iteration = 0\n",
    "    while True:\n",
    "        f_x = f(x)\n",
    "        df_x = df(float(x))\n",
    "        d2f_x = d2f(float(x))\n",
    "        x_new = x - df_x / d2f_x\n",
    "        print(f\"Iteration {iteration}: x = {x_new}, f(x) = {f_x}\")\n",
    "        if np.abs(x_new - x) < epsilon or iteration >= max_iterations:\n",
    "            break\n",
    "        x = x_new\n",
    "        iteration += 1\n",
    "    return x_new\n"
   ]
  },
  {
   "cell_type": "code",
   "execution_count": null,
   "metadata": {},
   "outputs": [],
   "source": [
    "def f(x):\n",
    "    return 8*x**3 - 2*x**2 - 7*x + 3\n",
    "\n",
    "def df(x):\n",
    "    return 24*x**4 - 4*x - 7"
   ]
  },
  {
   "cell_type": "code",
   "execution_count": null,
   "metadata": {},
   "outputs": [],
   "source": [
    "x1 = newton_method(f, 1.9, 0.00001)\n"
   ]
  },
  {
   "cell_type": "code",
   "execution_count": null,
   "metadata": {},
   "outputs": [],
   "source": [
    "x = np.linspace(0,2,100)\n",
    "plt.plot(x, f(x))\n",
    "plt.scatter(x1, f(x1))"
   ]
  },
  {
   "attachments": {},
   "cell_type": "markdown",
   "metadata": {},
   "source": [
    "# Bissection method"
   ]
  },
  {
   "cell_type": "code",
   "execution_count": null,
   "metadata": {},
   "outputs": [],
   "source": [
    "def bissection(f, a, b, tol=1e-5, max_iter=100):\n",
    "    \"\"\"\n",
    "    Find the root of a continuous single variable function using the bisection method.\n",
    "    :param f: The function to be optimized.\n",
    "    :param a: The left endpoint of the interval.\n",
    "    :param b: The right endpoint of the interval.\n",
    "    :param tol: The tolerance for the root.\n",
    "    :param max_iter: The maximum number of iterations.\n",
    "    :return: The root of the function.\n",
    "    \"\"\"\n",
    "    # Check if the function changes sign between a and b\n",
    "    #if f(a) * f(b) >= 0:\n",
    "    #    print(\"The function does not change sign between the interval.\")\n",
    "    #    return None\n",
    "    \n",
    "    # Initialize the iteration counter\n",
    "    i = 0\n",
    "    erro = tol*2\n",
    "    # Iterate until the desired tolerance is achieved or the maximum number of iterations is reached\n",
    "    while erro > tol and i < max_iter:\n",
    "        # Compute the midpoint of the interval\n",
    "        c = (a + b) / 2\n",
    "        \n",
    "        # Evaluate the function at the midpoint\n",
    "        fc = f(c)\n",
    "        dfc = grad(f)(c)\n",
    "        # Print the intermediate result\n",
    "        print(f\"Iteration {i + 1}: a = {a:.6f}, b = {b:.6f}, c = {c:.6f}, f(c) = {fc:.6f}\")\n",
    "        \n",
    "        # Update the interval based on the sign of the function at the midpoint\n",
    "        if dfc > 0:\n",
    "            b = c\n",
    "        elif dfc <=0:\n",
    "            a = c\n",
    "        elif dfc == 0:\n",
    "            erro = 0\n",
    "\n",
    "        erro = abs(b - a)\n",
    "        # Increment the iteration counter\n",
    "        i += 1\n",
    "    \n",
    "    # Return the root of the function\n",
    "    return (a + b) / 2\n"
   ]
  },
  {
   "cell_type": "code",
   "execution_count": null,
   "metadata": {},
   "outputs": [],
   "source": [
    "x1 = bissection(f,  a=0.0, b=2.0)"
   ]
  },
  {
   "cell_type": "code",
   "execution_count": null,
   "metadata": {},
   "outputs": [],
   "source": [
    "\n",
    "x = np.linspace(0,2,100)\n",
    "plt.plot(x, f(x))\n",
    "plt.scatter(x1, f(x1))"
   ]
  },
  {
   "cell_type": "code",
   "execution_count": null,
   "metadata": {},
   "outputs": [],
   "source": []
  }
 ],
 "metadata": {
  "kernelspec": {
   "display_name": "Python 3.10.6 64-bit",
   "language": "python",
   "name": "python3"
  },
  "language_info": {
   "codemirror_mode": {
    "name": "ipython",
    "version": 3
   },
   "file_extension": ".py",
   "mimetype": "text/x-python",
   "name": "python",
   "nbconvert_exporter": "python",
   "pygments_lexer": "ipython3",
   "version": "3.10.6"
  },
  "orig_nbformat": 4,
  "vscode": {
   "interpreter": {
    "hash": "916dbcbb3f70747c44a77c7bcd40155683ae19c65e1c03b4aa3499c5328201f1"
   }
  }
 },
 "nbformat": 4,
 "nbformat_minor": 2
}
