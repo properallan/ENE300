{
 "cells": [
  {
   "cell_type": "code",
   "execution_count": 2,
   "metadata": {},
   "outputs": [],
   "source": [
    "from ene300.plot import animate_pso, plot_surface, plot_objective_function\n",
    "from ene300.optimization import PSO, FPA, SOS, GWO\n",
    "from ene300.functions import shubert, griewank, sixhump, easom, eggholder\n",
    "import pickle\n",
    "import numpy as np\n",
    "import matplotlib.pyplot as plt\n",
    "\n",
    "import seaborn as sns\n",
    "import pandas as pd\n",
    "from matplotlib import ticker\n",
    "\n",
    "plt.style.use(\"~/Dropbox/local/mplstyle/mystyle.mplstyle\")"
   ]
  },
  {
   "cell_type": "code",
   "execution_count": null,
   "metadata": {},
   "outputs": [],
   "source": [
    "from ene300.plot import plot_surface"
   ]
  },
  {
   "cell_type": "markdown",
   "metadata": {},
   "source": [
    "# Conjunto de Funções Objetivo"
   ]
  },
  {
   "cell_type": "code",
   "execution_count": null,
   "metadata": {},
   "outputs": [],
   "source": [
    "def thermoelectric_system(x):\n",
    "    a = np.array([26.97, 1.865, 39.79])\n",
    "    b = np.array([-0.3975, -0.03988, -0.3116])\n",
    "    c = np.array([0.002176, 0.001138, 0.001457])\n",
    "    \n",
    "    PG = x\n",
    "    F = 0\n",
    "    for i in range(3):\n",
    "        F += a[i] + b[i]*PG[i]+c[i]*PG[i]**2\n",
    "    return F\n",
    "\n",
    "def regularized_ts(x, alpha=10):\n",
    "    return thermoelectric_system(x) + alpha*(np.sum(x, axis=0)-550)**2"
   ]
  },
  {
   "cell_type": "code",
   "execution_count": null,
   "metadata": {},
   "outputs": [],
   "source": [
    "functions_params = {\n",
    "                    'shubert' :            dict( objective_function = shubert,\n",
    "                                                position_boundary = [[-8, 8],   [-8, 8]] ),\n",
    "                    'griewank' :           dict( objective_function = griewank,\n",
    "                                                position_boundary = [[-100, 100],   [-100, 100]  ] ),\n",
    "                    'sixhump' :            dict( objective_function = sixhump,\n",
    "                                                position_boundary = [[-3, 3],     [-2, 2]    ] ),\n",
    "                    'easom' :              dict( objective_function = easom,\n",
    "                                                position_boundary = [[-5, 5], [-5, 5]] ),\n",
    "                    'eggholder' :          dict( objective_function = eggholder,\n",
    "                                                position_boundary = [[-512, 512], [-512, 512]] ),\n",
    "                    'regularized_ts' :     dict( objective_function = regularized_ts,\n",
    "                                                position_boundary = [[100, 196],  [50, 114]  , [200, 332]] ),\n",
    "                    }\n",
    "\n",
    "functions_optimum = {\n",
    "                    'shubert' :            dict( x=-1.42512791, y=-0.80032055, z=shubert([-1.42512791, -0.80032055])),\n",
    "                    'griewank' :           dict( x=0, y=0, z=griewank([0,0])),\n",
    "                    'sixhump' :            dict( x=0.0898,y=-0.7126, z=sixhump([0.0898,-0.7126])),\n",
    "                    'easom' :              dict( x=np.pi, y=np.pi, z=easom([np.pi, np.pi])),\n",
    "                    'eggholder' :          dict( x=512, y=404.2319, z=eggholder([512.0, 404.2319])),\n",
    "                    'regularized_ts' :     dict( x=196. , y=114.,z=regularized_ts([186.6699073 , 114.        , 249.30934834]))\n",
    "                    }"
   ]
  },
  {
   "cell_type": "markdown",
   "metadata": {},
   "source": [
    "# Plot Functions"
   ]
  },
  {
   "cell_type": "code",
   "execution_count": null,
   "metadata": {},
   "outputs": [],
   "source": [
    "rt=False\n",
    "for key, value in functions_params.items():\n",
    "    if key == 'regularized_ts':\n",
    "        rts = True\n",
    "    else:\n",
    "        rts = False\n",
    "    plot_objective_function(**value, discretization=[100,100], optimum=functions_optimum[key], save_file=f\"./latex/{key}_optimum.pdf\", rstride=1, cstride=1, antialiased=False, regularized_ts=rts, cmap='viridis', alpha=0.5)\n",
    "    \n"
   ]
  },
  {
   "cell_type": "code",
   "execution_count": null,
   "metadata": {},
   "outputs": [],
   "source": [
    "function_names = ['shubert', 'griewank', 'sixhump', 'easom', 'eggholder', 'regularized_ts']\n",
    "function_references = [-186.7309, 0.0, -1.0316, -1.0, -959.640, 250.0, None]"
   ]
  },
  {
   "cell_type": "markdown",
   "metadata": {},
   "source": [
    "# Optimization Algorithms parameters"
   ]
  },
  {
   "cell_type": "code",
   "execution_count": null,
   "metadata": {},
   "outputs": [],
   "source": [
    "max_function_evaluations = 200\n",
    "optimization_algorithms = {'PSO' : {'algorithm' :   PSO(),                                           \n",
    "                                    'args'      :   dict(   velocity_boundary = [-1,1],\n",
    "                                                            #weight = dict(function='constant', constant=0.7) ,\n",
    "                                                            weight_function = dict(function='random') ,\n",
    "                                                            #weight = dict(function='linear_decrease', max=2, min=0) ,\n",
    "                                                            #weight_function = dict(function='sigmoidal_increase', start=0, end=2, n=0.5, u_sign=0.15) , \n",
    "                                                            C_function = [ dict(function='constant', constant=1),\n",
    "                                                                           dict(function='constant', constant=1.5)  ],\n",
    "                                                            population = 80,\n",
    "                                                            itmax = max_function_evaluations,\n",
    "                                                            max_fa = max_function_evaluations)}, \n",
    "                           'FPA' : {'algorithm' :   FPA(),                                           \n",
    "                                    'args'      :   dict(   population = 80, \n",
    "                                                            p = 0.75,\n",
    "                                                            itmax = max_function_evaluations, \n",
    "                                                            max_fa = max_function_evaluations)}, \n",
    "                           'SOS' : {'algorithm' :   SOS(),                                           \n",
    "                                    'args'      :   dict(   population = 80, \n",
    "                                                            itmax = 80,\n",
    "                                                            max_fa = max_function_evaluations)},\n",
    "                           'GWO' : {'algorithm' :   GWO(),                                           \n",
    "                                    'args'      :   dict(   a_function = dict(function='linear_decrease', max=2, min=0),\n",
    "                                                            population = 80, \n",
    "                                                            itmax = max_function_evaluations,\n",
    "                                                            max_fa = max_function_evaluations)}\n",
    "                                                            }"
   ]
  },
  {
   "cell_type": "markdown",
   "metadata": {},
   "source": [
    "# RUN DOE for Statistics Study at least 20 runs for each case"
   ]
  },
  {
   "cell_type": "code",
   "execution_count": null,
   "metadata": {},
   "outputs": [],
   "source": [
    "statistics = {}\n",
    "runs = 20\n",
    "#functions_params = {k: functions_params[k] for k in ['eggholder']}\n",
    "\n",
    "def generate_statistics(functions_params, optimization_algorithms, save_statistics):\n",
    "    for function_name, function_param in functions_params.items():\n",
    "        statistics[function_name] = {}\n",
    "        for oa_name, oa_dict in optimization_algorithms.items():\n",
    "            statistics[function_name][oa_name] = {'history' : [],\n",
    "                                                'global_best' : [],\n",
    "                                                'best_fit': [],\n",
    "                                                'run_no': []}\n",
    "            for run in range(20):\n",
    "                global_best, best_fit, history = oa_dict['algorithm'](**function_param, **oa_dict['args'])\n",
    "                statistics[function_name][oa_name]['history'].append( history )\n",
    "                statistics[function_name][oa_name]['global_best'].append( global_best)\n",
    "                statistics[function_name][oa_name]['best_fit'].append( best_fit )\n",
    "                statistics[function_name][oa_name]['run_no'].append( run+1 )\n",
    "                print(function_name, oa_name, run, best_fit)\n",
    "    \n",
    "    with open(save_statistics, 'wb') as f:\n",
    "        pickle.dump(statistics, f)\n",
    "\n",
    "    return statistics"
   ]
  },
  {
   "cell_type": "code",
   "execution_count": null,
   "metadata": {},
   "outputs": [],
   "source": [
    "#generate_statistics(functions_params, optimization_algorithms, save_statistics='statistics.pkl')"
   ]
  },
  {
   "cell_type": "code",
   "execution_count": null,
   "metadata": {},
   "outputs": [],
   "source": [
    "with open('statistics.pkl', 'rb') as f:\n",
    "    statistics = pickle.load(f)"
   ]
  },
  {
   "cell_type": "markdown",
   "metadata": {},
   "source": [
    "# Boxplots"
   ]
  },
  {
   "cell_type": "code",
   "execution_count": null,
   "metadata": {},
   "outputs": [],
   "source": [
    "def box_plot(function_name, algorithms,  reference=None, fig=None, ax=None, error=None, ylabel=None, savefig=None):\n",
    "    if ax is None:\n",
    "        fig, ax = plt.subplots()\n",
    "    \n",
    "    value = lambda k : statistics[function_name][k]['best_fit']\n",
    "    if error is not None and reference is not None:\n",
    "        value = lambda k : error(statistics[function_name][k]['best_fit'], reference)\n",
    "   \n",
    "    if algorithms is None:\n",
    "        algorithms = list(statistics[function_name].keys())\n",
    "\n",
    "    data = [value(k) for k in algorithms]\n",
    "    \n",
    "    bp_results = ax.boxplot(data)\n",
    "    ax.set_xticks(list(range(1, len(data)+1)), algorithms[0:len(data)])\n",
    "    #ax.set_title(function_name)\n",
    "\n",
    "    if ylabel is not None:\n",
    "        ax.set_ylabel(ylabel)\n",
    "    if reference is not None and error is None: \n",
    "        ax.axhline(reference, ls=':') \n",
    "\n",
    "    plt.tight_layout()\n",
    "    plt.tight_layout()\n",
    "    if savefig is not None:\n",
    "        plt.savefig(savefig)\n",
    "\n",
    "    return bp_results"
   ]
  },
  {
   "cell_type": "code",
   "execution_count": null,
   "metadata": {},
   "outputs": [],
   "source": [
    "def rse(x, y):\n",
    "    x = np.array(x)\n",
    "    y = np.array(y)\n",
    "    return np.sqrt((x-y)**2)\n",
    "\n",
    "def nrse(x, y):\n",
    "    x = np.array(x)\n",
    "    y = np.array(y)\n",
    "    return np.sqrt((x-y)**2)/abs(y)\n",
    "\n",
    "def nrsep(x, y):\n",
    "    x = np.array(x)\n",
    "    y = np.array(y)\n",
    "    return np.sqrt((x-y)**2)/abs(y)*100"
   ]
  },
  {
   "cell_type": "code",
   "execution_count": null,
   "metadata": {},
   "outputs": [],
   "source": [
    "function_names = list(functions_params.keys())\n",
    "function_references = [-186.7309, 0.0, -1.0316, -1.0, -959.640, None]\n",
    "algorithms=['PSO', 'FPA', 'SOS', 'GWO']\n",
    "#fig, axs = plt.subplots(len(function_names),1)\n",
    "for i, function_name in enumerate(function_names):\n",
    "#    ax = axs[i]\n",
    "    fig, ax = plt.subplots(figsize=(4,3))\n",
    "    reference_val = function_references[i]\n",
    "    box_plot(function_name, algorithms, reference=None, fig=fig, ax=ax, ylabel=rf'$f(\\mathbf{{x}}^*)$', error=None, savefig=f\"./latex/{function_name}_boxplot_gwo.pgf\")"
   ]
  },
  {
   "cell_type": "code",
   "execution_count": null,
   "metadata": {},
   "outputs": [],
   "source": []
  },
  {
   "cell_type": "code",
   "execution_count": null,
   "metadata": {},
   "outputs": [],
   "source": [
    "function_names = list(functions_params.keys())\n",
    "function_references = [-186.7309, 0.0, -1.0316, -1.0, -959.640, None]\n",
    "algorithms=['PSO', 'FPA', 'SOS', 'GWO']\n",
    "#fig, axs = plt.subplots(len(function_names),1)\n",
    "\n",
    "dict_ = {}\n",
    "dict_['function'] = []\n",
    "for algorithm in algorithms:\n",
    "    dict_[f'ave_{algorithm}'] = []\n",
    "    dict_[f'std_{algorithm}'] = []\n",
    "\n",
    "dict_[f'ref'] = [-186.7309, 0.0, -1.0316, -1.0, -959.640, 93.370549]\n",
    "for i, function_name in enumerate(function_names):\n",
    "    value = lambda k : statistics[function_name][k]['best_fit']\n",
    "    dict_['function'].append( function_name )\n",
    "    for algorithm in algorithms:\n",
    "        data = [value(k) for k in [algorithm]]\n",
    "        reference_val = function_references[i]\n",
    "\n",
    "        dict_[f'ave_{algorithm}'].append(np.average(data))\n",
    "        dict_[f'std_{algorithm}'].append(np.std(data))\n",
    "        \n",
    "        print('algorithm', algorithm, 'function ', function_name, ' average:',np.average(data), 'std', np.std(data))\n",
    "        #bp_r = box_plot(function_name, algorithms, reference=None, fig=fig, ax=ax, ylabel=rf'$f(\\mathbf{{x}}^*)$', error=None, savefig=f\"./latex/{function_name}_boxplot_gwo.pgf\")\n",
    "        #bp_results[function_name] = bp_r"
   ]
  },
  {
   "cell_type": "code",
   "execution_count": null,
   "metadata": {},
   "outputs": [],
   "source": [
    "columns=['ave_PSO', 'std_PSO', 'ave_FPA', 'std_FPA', 'ave_SOS', 'std_SOS', 'ave_GWO', 'std_GWO', 'ref']"
   ]
  },
  {
   "cell_type": "code",
   "execution_count": null,
   "metadata": {},
   "outputs": [],
   "source": [
    "table = pd.DataFrame(data=dict_, index=dict_['function'], columns=['ave_PSO', 'std_PSO', 'ave_FPA', 'std_FPA', 'ave_SOS', 'std_SOS', 'ave_GWO', 'std_GWO', 'ref'])\n",
    "table.T"
   ]
  },
  {
   "cell_type": "code",
   "execution_count": null,
   "metadata": {},
   "outputs": [],
   "source": [
    "statistics['regularized_ts']['PSO']['global_best']"
   ]
  },
  {
   "cell_type": "code",
   "execution_count": null,
   "metadata": {},
   "outputs": [],
   "source": [
    "pd.options.display.float_format = \"{:,.4f}\".format\n",
    "print(table.T.to_latex())"
   ]
  },
  {
   "cell_type": "code",
   "execution_count": null,
   "metadata": {},
   "outputs": [],
   "source": [
    "print(table.to_latex())"
   ]
  },
  {
   "cell_type": "markdown",
   "metadata": {},
   "source": [
    "# Plot convergence with confidence level"
   ]
  },
  {
   "cell_type": "code",
   "execution_count": null,
   "metadata": {},
   "outputs": [],
   "source": [
    "def get_convergence(staticstics,function_name):\n",
    "    algorithms = list(statistics[function_name].keys())\n",
    "    line_data = []\n",
    "    for k in range(len(statistics[function_name][algorithms[0]]['history'])):\n",
    "        for a in algorithms:\n",
    "            for i in statistics[function_name][a]['history'][k]['iteration']:\n",
    "                it = statistics[function_name][a]['history'][k]['iteration'][i-1]\n",
    "                best_fit = statistics[function_name][a]['history'][k]['best_fit'][i-1]\n",
    "                algo = a\n",
    "                line_data.append([it, best_fit, algo])\n",
    "    line_data = np.array(line_data)\n",
    "    line_data_df = pd.DataFrame(line_data, columns=['iteration', 'best_fit', 'algorithm'])\n",
    "    convert_dict = {'iteration': int,\n",
    "                    'best_fit': np.float64,\n",
    "                    'algorithm': str }\n",
    "    line_data_df = line_data_df.astype(convert_dict)\n",
    "\n",
    "    return line_data_df\n",
    "\n",
    "def plot_convergence(statistics, function_name, algorithms, ylabel, fig, ax, savefig=None):\n",
    "    if fig is None and ax is None:\n",
    "        fig, ax = plt.subplots()    \n",
    "\n",
    "    line_data_df = get_convergence(statistics, function_name)\n",
    "    if algorithms is not None:\n",
    "        line_data_df = line_data_df.query(f\"algorithm in {algorithms}\")\n",
    "\n",
    "    sg = sns.lineplot(line_data_df, x='iteration', y='best_fit', hue='algorithm')\n",
    "    sg.set_ylabel(ylabel)\n",
    "    #sg.set_title('convergence')\n",
    "    sg.set_xlabel('iteration')\n",
    "    #sg.set_title(function_name)\n",
    "    ax.yaxis.set_major_formatter(ticker.StrMethodFormatter(\"{x:.3f}\"))\n",
    "    plt.tight_layout()\n",
    "    if savefig is not None:\n",
    "        plt.savefig(savefig)"
   ]
  },
  {
   "cell_type": "code",
   "execution_count": null,
   "metadata": {},
   "outputs": [],
   "source": [
    "algorithms=list(optimization_algorithms.keys())\n",
    "algorithms=['PSO', 'FPA', 'SOS']\n",
    "for i, function_name in enumerate(function_names):\n",
    "#    ax = axs[i]\n",
    "    fig, ax = plt.subplots(figsize=(4,3))\n",
    "    plot_convergence(statistics, function_name, algorithms, ylabel=rf'$f(\\mathbf{{x}}^*)$', fig=fig, ax=ax , savefig=f'./latex/{function_name}_convergence.pgf')"
   ]
  },
  {
   "cell_type": "code",
   "execution_count": null,
   "metadata": {
    "vscode": {
     "languageId": "latex"
    }
   },
   "outputs": [],
   "source": [
    "\n"
   ]
  }
 ],
 "metadata": {
  "kernelspec": {
   "display_name": "Python 3.11.0 ('ene300env')",
   "language": "python",
   "name": "python3"
  },
  "language_info": {
   "codemirror_mode": {
    "name": "ipython",
    "version": 3
   },
   "file_extension": ".py",
   "mimetype": "text/x-python",
   "name": "python",
   "nbconvert_exporter": "python",
   "pygments_lexer": "ipython3",
   "version": "3.11.0"
  },
  "orig_nbformat": 4,
  "vscode": {
   "interpreter": {
    "hash": "01a7d003b6e129f81d896c32b53c4c7924f0985c52f06263798a9e5475541277"
   }
  }
 },
 "nbformat": 4,
 "nbformat_minor": 2
}
