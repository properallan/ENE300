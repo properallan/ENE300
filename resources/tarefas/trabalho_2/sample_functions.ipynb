{
 "cells": [
  {
   "cell_type": "markdown",
   "metadata": {},
   "source": [
    "# Algoritmos \n",
    "\n",
    "## Particle Swarm Optimization (PSO)\n",
    "\n"
   ]
  },
  {
   "cell_type": "code",
   "execution_count": 1,
   "metadata": {},
   "outputs": [],
   "source": [
    "from ene300.functions import shubert, griewank, sixhump, easom, eggholder\n",
    "from ene300.optimization import PSO\n",
    "from ene300.plot import animate_pso, plot_surface\n",
    "\n",
    "%matplotlib inline\n"
   ]
  },
  {
   "cell_type": "markdown",
   "metadata": {},
   "source": [
    "# Shubert"
   ]
  },
  {
   "cell_type": "code",
   "execution_count": 2,
   "metadata": {},
   "outputs": [
    {
     "data": {
      "text/plain": [
       "array(-186.73057851)"
      ]
     },
     "execution_count": 2,
     "metadata": {},
     "output_type": "execute_result"
    }
   ],
   "source": [
    "pso = PSO()\n",
    "global_best, best_fit, history = pso(   objective_function = shubert,\n",
    "                                        position_boundary = [[-10, 10], [-10, 10]],\n",
    "                                        velocity_boundary = [-1,1],\n",
    "                                        #weight = dict(function='constant', constant=0.7) ,\n",
    "                                        #weight = dict(function='random') ,\n",
    "                                        #weight = dict(function='linear_decrease', max=2, min=0) ,\n",
    "                                        weight_function = dict(function='sigmoidal_increase', start=0, end=2, n=0.5, u_sign=0.15) , \n",
    "                                        C_function = [ dict(function='constant', constant=1),\n",
    "                                                       dict(function='constant', constant=1.5)  ],\n",
    "                                        population = 50,\n",
    "                                        itmax = 5000, \n",
    "                                        max_fa = 1000)\n",
    "best_fit"
   ]
  },
  {
   "cell_type": "code",
   "execution_count": null,
   "metadata": {},
   "outputs": [],
   "source": [
    "animate_pso(history)"
   ]
  },
  {
   "cell_type": "code",
   "execution_count": null,
   "metadata": {},
   "outputs": [],
   "source": [
    "#%matplotlib qt\n",
    "plot_surface(history, cmap='viridis', alpha=0.4)"
   ]
  },
  {
   "cell_type": "markdown",
   "metadata": {},
   "source": [
    "# Griewank"
   ]
  },
  {
   "cell_type": "code",
   "execution_count": null,
   "metadata": {},
   "outputs": [],
   "source": [
    "global_best, best_fit, history = pso(objective_function = griewank,\n",
    "                                        position_boundary = [[-60, 60], [-60, 60]],\n",
    "                                        velocity_boundary = [-1,1],\n",
    "                                        #weight = dict(function='constant', constant=0.7) ,\n",
    "                                        #weight = dict(function='random') ,\n",
    "                                        #weight = dict(function='linear_decrease', max=2, min=0) ,\n",
    "                                        weight_function = dict(function='sigmoidal_increase', start=0, end=2, n=0.5, u_sign=0.15) , \n",
    "                                        C_function = [ dict(function='constant', constant=1.0),\n",
    "                                                       dict(function='constant', constant=1.5)  ],\n",
    "                                        population = 50,\n",
    "                                        itmax = 100)\n",
    "best_fit"
   ]
  },
  {
   "cell_type": "code",
   "execution_count": null,
   "metadata": {},
   "outputs": [],
   "source": [
    "plot_surface(history, cmap='viridis', alpha=0.2)"
   ]
  },
  {
   "cell_type": "markdown",
   "metadata": {},
   "source": [
    "# Six-Hump"
   ]
  },
  {
   "cell_type": "code",
   "execution_count": null,
   "metadata": {},
   "outputs": [],
   "source": [
    "global_best, best_fit, history = pso(   objective_function = sixhump,\n",
    "                                        position_boundary = [[-3, 3], [-2, 2]],\n",
    "                                        velocity_boundary = [-1,1],\n",
    "                                        weight_function = dict(function='sigmoidal_increase', start=0, end=2, n=0.5, u_sign=0.15) , \n",
    "                                        C_function = [ dict(function='constant', constant=1.0),\n",
    "                                                       dict(function='constant', constant=1.5)  ],\n",
    "                                        population = 50,\n",
    "                                        itmax = 100)\n",
    "best_fit\n",
    "#animate_pso(history)\n",
    "plot_surface(history, cmap='viridis', alpha=0.4)"
   ]
  },
  {
   "cell_type": "markdown",
   "metadata": {},
   "source": [
    "# Easom"
   ]
  },
  {
   "cell_type": "code",
   "execution_count": null,
   "metadata": {},
   "outputs": [],
   "source": [
    "global_best, best_fit, history = pso(objective_function = easom,\n",
    "                                        position_boundary = [[-100, 100], [-100, 100]],\n",
    "                                        velocity_boundary = [-1,1],\n",
    "                                        weight_function = dict(function='sigmoidal_increase', start=0, end=2, n=0.5, u_sign=0.15) , \n",
    "                                        C_function = [ dict(function='constant', constant=1.0),\n",
    "                                                       dict(function='constant', constant=1.5)  ],\n",
    "                                        population = 50,\n",
    "                                        itmax = 100)\n",
    "best_fit\n",
    "#animate_pso(history)\n",
    "plot_surface(history, discretization=[100,100], domain=[[0,5],[0,5]], cmap='viridis', alpha=0.4)"
   ]
  },
  {
   "cell_type": "markdown",
   "metadata": {},
   "source": [
    "# Eggholder"
   ]
  },
  {
   "cell_type": "code",
   "execution_count": null,
   "metadata": {},
   "outputs": [],
   "source": [
    "global_best, best_fit, history = pso(objective_function = eggholder,\n",
    "                                        position_boundary = [[-512, 512], [-512, 512]],\n",
    "                                        velocity_boundary = [-1,1],\n",
    "                                        weight_function = dict(function='sigmoidal_increase', start=0, end=2, n=0.5, u_sign=0.15) , \n",
    "                                        C_function = [ dict(function='constant', constant=1.0),\n",
    "                                                       dict(function='constant', constant=1.5)  ],\n",
    "                                        population = 200,\n",
    "                                        itmax = 200)\n",
    "best_fit\n",
    "#animate_pso(history)\n",
    "plot_surface(history, cmap='viridis', alpha=0.4)"
   ]
  },
  {
   "cell_type": "markdown",
   "metadata": {},
   "source": [
    "# Planejamento de Operação de Termoelétricas"
   ]
  },
  {
   "cell_type": "code",
   "execution_count": 3,
   "metadata": {},
   "outputs": [],
   "source": [
    "import numpy as np\n",
    "\n",
    "def custo(x):\n",
    "\n",
    "    a = np.array([26.97, 1.865, 39.79])\n",
    "    b = np.array([-0.3975, -0.03988, -0.3116])\n",
    "    c = np.array([0.002176, 0.001138, 0.001457])\n",
    "    \n",
    "    PG = x\n",
    "    F = 0\n",
    "    for i in range(3):\n",
    "        F += a[i] + b[i]*PG[i]+c[i]*PG[i]**2\n",
    "    return F"
   ]
  },
  {
   "cell_type": "code",
   "execution_count": 4,
   "metadata": {},
   "outputs": [],
   "source": [
    "def custo_regularizado(x, alpha=10):\n",
    "    return custo(x) + alpha*(np.sum(x, axis=0)-550)**2"
   ]
  },
  {
   "cell_type": "code",
   "execution_count": 5,
   "metadata": {},
   "outputs": [],
   "source": [
    "global_best, best_fit, history = pso(objective_function = custo_regularizado,\n",
    "                                        position_boundary = [[100, 196], [50, 114], [200, 332]],\n",
    "                                        velocity_boundary = [-1,1],\n",
    "                                        weight_function = dict(function='sigmoidal_increase', start=0, end=2, n=0.5, u_sign=0.15) , \n",
    "                                        C_function = [ dict(function='constant', constant=1.0),\n",
    "                                                       dict(function='constant', constant=1.5)  ],\n",
    "                                        population = 50,\n",
    "                                        itmax = 200)"
   ]
  },
  {
   "cell_type": "code",
   "execution_count": 6,
   "metadata": {},
   "outputs": [
    {
     "data": {
      "text/plain": [
       "array([186.71448799, 114.        , 249.26598245])"
      ]
     },
     "execution_count": 6,
     "metadata": {},
     "output_type": "execute_result"
    }
   ],
   "source": [
    "global_best"
   ]
  },
  {
   "cell_type": "code",
   "execution_count": null,
   "metadata": {},
   "outputs": [],
   "source": [
    "best_fit"
   ]
  },
  {
   "cell_type": "markdown",
   "metadata": {},
   "source": [
    "# Análise Estatística"
   ]
  },
  {
   "cell_type": "code",
   "execution_count": null,
   "metadata": {},
   "outputs": [],
   "source": [
    "other_params = dict(velocity_boundary = [-1,1],\n",
    "                    weight_function = dict(function='sigmoidal_increase', start=0, end=2, n=0.5, u_sign=0.15) , \n",
    "                    C_function = [ dict(function='constant', constant=1.0),\n",
    "                                    dict(function='constant', constant=1.5)  ],\n",
    "                    population = 50,\n",
    "                    itmax = 100)\n",
    "\n",
    "optimization_algorithm = PSO()\n",
    "\n",
    "functions_params = {\n",
    "    'shubert' :            dict( objective_function = shubert,\n",
    "                                position_boundary = [[-10, 10],   [-10, 10]  ] ),\n",
    "    'griewank' :           dict( objective_function = griewank,\n",
    "                                position_boundary = [[-60, 60],   [-60, 60]  ] ),\n",
    "    'sixhump' :            dict( objective_function = sixhump,\n",
    "                                position_boundary = [[-3, 3],     [-2, 2]    ] ),\n",
    "    'easom' :              dict( objective_function = easom,\n",
    "                                position_boundary = [[-100, 100], [-100, 100]] ),\n",
    "    'eggholder' :          dict( objective_function = eggholder,\n",
    "                                position_boundary = [[-512, 512], [-512, 512]] ),\n",
    "    'custo_regularizado' : dict( objective_function = custo_regularizado,\n",
    "                                position_boundary = [[100, 196],  [50, 114]  , [200, 332]] ),\n",
    "    }\n",
    "\n",
    "for function, function_params in functions_params.items():\n",
    "    optimization_algorithm(*function_params, *other_params)\n"
   ]
  },
  {
   "cell_type": "code",
   "execution_count": null,
   "metadata": {},
   "outputs": [],
   "source": []
  }
 ],
 "metadata": {
  "kernelspec": {
   "display_name": "Python 3.9.15 ('base')",
   "language": "python",
   "name": "python3"
  },
  "language_info": {
   "codemirror_mode": {
    "name": "ipython",
    "version": 3
   },
   "file_extension": ".py",
   "mimetype": "text/x-python",
   "name": "python",
   "nbconvert_exporter": "python",
   "pygments_lexer": "ipython3",
   "version": "3.9.15"
  },
  "orig_nbformat": 4,
  "vscode": {
   "interpreter": {
    "hash": "c25544d719d175344236f55a7b30dc3b0a2e294f8af427f95c30844b0f4cb7f6"
   }
  }
 },
 "nbformat": 4,
 "nbformat_minor": 2
}
